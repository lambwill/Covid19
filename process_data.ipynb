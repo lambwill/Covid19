{
 "cells": [
  {
   "cell_type": "markdown",
   "metadata": {},
   "source": [
    "# Covid 10 data analysis\n",
    "Data analysis of CountyUAs_cases_table data downloaded & timestamed daily from PHE Data hosted by ESRI at [ArcGIS.com](https://www.arcgis.com/home/item.html?id=b684319181f94875a6879bbc833ca3a6)"
   ]
  },
  {
   "cell_type": "markdown",
   "metadata": {},
   "source": []
  },
  {
   "cell_type": "markdown",
   "metadata": {},
   "source": [
    "***\n",
    "## Import python libraries and set file locations"
   ]
  },
  {
   "cell_type": "code",
   "execution_count": 1,
   "metadata": {},
   "outputs": [],
   "source": [
    "### Import libraries\n",
    "# For data analysis\n",
    "import pandas as pd\n",
    "import numpy as np\n",
    "\n",
    "# For downloading data from www\n",
    "import urllib.request\n",
    "\n",
    "# For finding and using file paths\n",
    "import glob, os  \n",
    "\n",
    "# For outputting Markdown formatted stuff to this notebook\n",
    "from IPython.display import display, Markdown\n",
    "\n",
    "# For dates\n",
    "import datetime"
   ]
  },
  {
   "cell_type": "code",
   "execution_count": null,
   "metadata": {},
   "outputs": [],
   "source": []
  },
  {
   "cell_type": "code",
   "execution_count": null,
   "metadata": {},
   "outputs": [],
   "source": []
  },
  {
   "cell_type": "code",
   "execution_count": 2,
   "metadata": {},
   "outputs": [],
   "source": [
    "# Set file locations, using os.path.join to make the paths OS independent\n",
    "onedrive_folder = os.environ['ONEDRIVECONSUMER']\n",
    "root_folder = os.path.join(onedrive_folder,'Documents','COVID19')\n",
    "data_folder = os.path.join(root_folder,'data')\n",
    "lookup_folder = os.path.join(data_folder,'lookups')\n"
   ]
  },
  {
   "cell_type": "code",
   "execution_count": 3,
   "metadata": {},
   "outputs": [],
   "source": [
    "# Set the prefix for the daily data files\n",
    "daily_file_prefix = 'county_cases_daily'\n",
    "\n",
    "# Set the name for the daily timeseries data file\n",
    "daily_cases_file_name = 'daily_cases.csv'\n",
    "\n",
    "# Set the name for the weekly timeseries data fil\n",
    "weekly_cases_file_name = 'weekly_cases.csv'"
   ]
  },
  {
   "cell_type": "code",
   "execution_count": null,
   "metadata": {},
   "outputs": [],
   "source": []
  },
  {
   "cell_type": "code",
   "execution_count": null,
   "metadata": {},
   "outputs": [],
   "source": []
  },
  {
   "cell_type": "markdown",
   "metadata": {},
   "source": [
    "***\n",
    "## Get the ONS lookup tables\n",
    "The PHE data is at Local Authority District level, these lookups are used for aggregating the data into larger areas (e.g. Greater Manchester / London) "
   ]
  },
  {
   "cell_type": "code",
   "execution_count": 4,
   "metadata": {},
   "outputs": [],
   "source": [
    "# create a dictionary to store the lookup table urls\n",
    "lookup_urls = {}\n",
    "\n",
    "# Local Authority District to Combined Authority (December 2019) Lookup in England\n",
    "lookup_urls['LAD_to_CA_lookup'] = 'https://opendata.arcgis.com/datasets/db4f8bae6bfa41babfafea3ec8a38c0e_0.csv'\n",
    "\n",
    "# Local Authority District to Region (April 2019) Lookup in England\n",
    "lookup_urls['LAD_to_RGN_lookup'] = 'https://opendata.arcgis.com/datasets/3ba3daf9278f47daba0f561889c3521a_0.csv'\n",
    "\n",
    "# Local Authority Districts (April 2019) Names and Codes in the United Kingdom\n",
    "lookup_urls['LAD_name_lookup'] = 'https://opendata.arcgis.com/datasets/c3ddcd23a15c4d7985d8b36f1344b1db_0.csv'\n",
    "\n",
    "# Local Authority District to County (April 2019) Lookup in England\n",
    "lookup_urls['LAD_to_CTY_lookup'] = 'https://opendata.arcgis.com/datasets/79c993a10398400bb025a00849a43dc0_0.csv'"
   ]
  },
  {
   "cell_type": "code",
   "execution_count": 5,
   "metadata": {},
   "outputs": [],
   "source": [
    "# Read the lookup tables into a dictionary if they are in the lookups folder, download them first if they are not \n",
    "lookup_dataframes = {}\n",
    "for (lookup_name, url) in lookup_urls.items():\n",
    "    lookup_filepath = os.path.join(lookup_folder,lookup_name + '.csv')\n",
    "    try:\n",
    "        lookup_dataframes[lookup_name] = pd.read_csv(lookup_filepath)\n",
    "    except:\n",
    "        urllib.request.urlretrieve(url, lookup_filepath)\n",
    "        lookup_dataframes[lookup_name] = pd.read_csv(lookup_filepath)"
   ]
  },
  {
   "cell_type": "code",
   "execution_count": null,
   "metadata": {},
   "outputs": [],
   "source": []
  },
  {
   "cell_type": "code",
   "execution_count": 6,
   "metadata": {
    "scrolled": true
   },
   "outputs": [
    {
     "data": {
      "text/markdown": [
       "***\n",
       "LAD_to_CA_lookup"
      ],
      "text/plain": [
       "<IPython.core.display.Markdown object>"
      ]
     },
     "metadata": {},
     "output_type": "display_data"
    },
    {
     "data": {
      "text/html": [
       "<div>\n",
       "<style scoped>\n",
       "    .dataframe tbody tr th:only-of-type {\n",
       "        vertical-align: middle;\n",
       "    }\n",
       "\n",
       "    .dataframe tbody tr th {\n",
       "        vertical-align: top;\n",
       "    }\n",
       "\n",
       "    .dataframe thead th {\n",
       "        text-align: right;\n",
       "    }\n",
       "</style>\n",
       "<table border=\"1\" class=\"dataframe\">\n",
       "  <thead>\n",
       "    <tr style=\"text-align: right;\">\n",
       "      <th></th>\n",
       "      <th>LAD19CD</th>\n",
       "      <th>LAD19NM</th>\n",
       "      <th>CAUTH19CD</th>\n",
       "      <th>CAUTH19NM</th>\n",
       "      <th>column4</th>\n",
       "      <th>FID</th>\n",
       "    </tr>\n",
       "  </thead>\n",
       "  <tbody>\n",
       "    <tr>\n",
       "      <td>0</td>\n",
       "      <td>E08000001</td>\n",
       "      <td>Bolton</td>\n",
       "      <td>E47000001</td>\n",
       "      <td>Greater Manchester</td>\n",
       "      <td>NaN</td>\n",
       "      <td>1</td>\n",
       "    </tr>\n",
       "    <tr>\n",
       "      <td>1</td>\n",
       "      <td>E08000002</td>\n",
       "      <td>Bury</td>\n",
       "      <td>E47000001</td>\n",
       "      <td>Greater Manchester</td>\n",
       "      <td>NaN</td>\n",
       "      <td>2</td>\n",
       "    </tr>\n",
       "    <tr>\n",
       "      <td>2</td>\n",
       "      <td>E08000003</td>\n",
       "      <td>Manchester</td>\n",
       "      <td>E47000001</td>\n",
       "      <td>Greater Manchester</td>\n",
       "      <td>NaN</td>\n",
       "      <td>3</td>\n",
       "    </tr>\n",
       "    <tr>\n",
       "      <td>3</td>\n",
       "      <td>E08000004</td>\n",
       "      <td>Oldham</td>\n",
       "      <td>E47000001</td>\n",
       "      <td>Greater Manchester</td>\n",
       "      <td>NaN</td>\n",
       "      <td>4</td>\n",
       "    </tr>\n",
       "    <tr>\n",
       "      <td>4</td>\n",
       "      <td>E08000005</td>\n",
       "      <td>Rochdale</td>\n",
       "      <td>E47000001</td>\n",
       "      <td>Greater Manchester</td>\n",
       "      <td>NaN</td>\n",
       "      <td>5</td>\n",
       "    </tr>\n",
       "  </tbody>\n",
       "</table>\n",
       "</div>"
      ],
      "text/plain": [
       "     LAD19CD     LAD19NM  CAUTH19CD           CAUTH19NM  column4  FID\n",
       "0  E08000001      Bolton  E47000001  Greater Manchester      NaN    1\n",
       "1  E08000002        Bury  E47000001  Greater Manchester      NaN    2\n",
       "2  E08000003  Manchester  E47000001  Greater Manchester      NaN    3\n",
       "3  E08000004      Oldham  E47000001  Greater Manchester      NaN    4\n",
       "4  E08000005    Rochdale  E47000001  Greater Manchester      NaN    5"
      ]
     },
     "metadata": {},
     "output_type": "display_data"
    },
    {
     "data": {
      "text/markdown": [
       "***\n",
       "LAD_to_RGN_lookup"
      ],
      "text/plain": [
       "<IPython.core.display.Markdown object>"
      ]
     },
     "metadata": {},
     "output_type": "display_data"
    },
    {
     "data": {
      "text/html": [
       "<div>\n",
       "<style scoped>\n",
       "    .dataframe tbody tr th:only-of-type {\n",
       "        vertical-align: middle;\n",
       "    }\n",
       "\n",
       "    .dataframe tbody tr th {\n",
       "        vertical-align: top;\n",
       "    }\n",
       "\n",
       "    .dataframe thead th {\n",
       "        text-align: right;\n",
       "    }\n",
       "</style>\n",
       "<table border=\"1\" class=\"dataframe\">\n",
       "  <thead>\n",
       "    <tr style=\"text-align: right;\">\n",
       "      <th></th>\n",
       "      <th>LAD19CD</th>\n",
       "      <th>LAD19NM</th>\n",
       "      <th>RGN19CD</th>\n",
       "      <th>RGN19NM</th>\n",
       "      <th>FID</th>\n",
       "    </tr>\n",
       "  </thead>\n",
       "  <tbody>\n",
       "    <tr>\n",
       "      <td>0</td>\n",
       "      <td>E09000001</td>\n",
       "      <td>City of London</td>\n",
       "      <td>E12000007</td>\n",
       "      <td>London</td>\n",
       "      <td>1</td>\n",
       "    </tr>\n",
       "    <tr>\n",
       "      <td>1</td>\n",
       "      <td>E06000054</td>\n",
       "      <td>Wiltshire</td>\n",
       "      <td>E12000009</td>\n",
       "      <td>South West</td>\n",
       "      <td>2</td>\n",
       "    </tr>\n",
       "    <tr>\n",
       "      <td>2</td>\n",
       "      <td>E09000002</td>\n",
       "      <td>Barking and Dagenham</td>\n",
       "      <td>E12000007</td>\n",
       "      <td>London</td>\n",
       "      <td>3</td>\n",
       "    </tr>\n",
       "    <tr>\n",
       "      <td>3</td>\n",
       "      <td>E09000003</td>\n",
       "      <td>Barnet</td>\n",
       "      <td>E12000007</td>\n",
       "      <td>London</td>\n",
       "      <td>4</td>\n",
       "    </tr>\n",
       "    <tr>\n",
       "      <td>4</td>\n",
       "      <td>E09000004</td>\n",
       "      <td>Bexley</td>\n",
       "      <td>E12000007</td>\n",
       "      <td>London</td>\n",
       "      <td>5</td>\n",
       "    </tr>\n",
       "  </tbody>\n",
       "</table>\n",
       "</div>"
      ],
      "text/plain": [
       "     LAD19CD               LAD19NM    RGN19CD     RGN19NM  FID\n",
       "0  E09000001        City of London  E12000007      London    1\n",
       "1  E06000054             Wiltshire  E12000009  South West    2\n",
       "2  E09000002  Barking and Dagenham  E12000007      London    3\n",
       "3  E09000003                Barnet  E12000007      London    4\n",
       "4  E09000004                Bexley  E12000007      London    5"
      ]
     },
     "metadata": {},
     "output_type": "display_data"
    },
    {
     "data": {
      "text/markdown": [
       "***\n",
       "LAD_name_lookup"
      ],
      "text/plain": [
       "<IPython.core.display.Markdown object>"
      ]
     },
     "metadata": {},
     "output_type": "display_data"
    },
    {
     "data": {
      "text/html": [
       "<div>\n",
       "<style scoped>\n",
       "    .dataframe tbody tr th:only-of-type {\n",
       "        vertical-align: middle;\n",
       "    }\n",
       "\n",
       "    .dataframe tbody tr th {\n",
       "        vertical-align: top;\n",
       "    }\n",
       "\n",
       "    .dataframe thead th {\n",
       "        text-align: right;\n",
       "    }\n",
       "</style>\n",
       "<table border=\"1\" class=\"dataframe\">\n",
       "  <thead>\n",
       "    <tr style=\"text-align: right;\">\n",
       "      <th></th>\n",
       "      <th>LAD19CD</th>\n",
       "      <th>LAD19NM</th>\n",
       "      <th>LAD19NMW</th>\n",
       "      <th>FID</th>\n",
       "    </tr>\n",
       "  </thead>\n",
       "  <tbody>\n",
       "    <tr>\n",
       "      <td>0</td>\n",
       "      <td>E06000001</td>\n",
       "      <td>Hartlepool</td>\n",
       "      <td>NaN</td>\n",
       "      <td>1</td>\n",
       "    </tr>\n",
       "    <tr>\n",
       "      <td>1</td>\n",
       "      <td>E07000215</td>\n",
       "      <td>Tandridge</td>\n",
       "      <td>NaN</td>\n",
       "      <td>2</td>\n",
       "    </tr>\n",
       "    <tr>\n",
       "      <td>2</td>\n",
       "      <td>E07000084</td>\n",
       "      <td>Basingstoke and Deane</td>\n",
       "      <td>NaN</td>\n",
       "      <td>3</td>\n",
       "    </tr>\n",
       "    <tr>\n",
       "      <td>3</td>\n",
       "      <td>E06000002</td>\n",
       "      <td>Middlesbrough</td>\n",
       "      <td>NaN</td>\n",
       "      <td>4</td>\n",
       "    </tr>\n",
       "    <tr>\n",
       "      <td>4</td>\n",
       "      <td>E06000003</td>\n",
       "      <td>Redcar and Cleveland</td>\n",
       "      <td>NaN</td>\n",
       "      <td>5</td>\n",
       "    </tr>\n",
       "  </tbody>\n",
       "</table>\n",
       "</div>"
      ],
      "text/plain": [
       "     LAD19CD                LAD19NM LAD19NMW  FID\n",
       "0  E06000001             Hartlepool      NaN    1\n",
       "1  E07000215              Tandridge      NaN    2\n",
       "2  E07000084  Basingstoke and Deane      NaN    3\n",
       "3  E06000002          Middlesbrough      NaN    4\n",
       "4  E06000003   Redcar and Cleveland      NaN    5"
      ]
     },
     "metadata": {},
     "output_type": "display_data"
    },
    {
     "data": {
      "text/markdown": [
       "***\n",
       "LAD_to_CTY_lookup"
      ],
      "text/plain": [
       "<IPython.core.display.Markdown object>"
      ]
     },
     "metadata": {},
     "output_type": "display_data"
    },
    {
     "data": {
      "text/html": [
       "<div>\n",
       "<style scoped>\n",
       "    .dataframe tbody tr th:only-of-type {\n",
       "        vertical-align: middle;\n",
       "    }\n",
       "\n",
       "    .dataframe tbody tr th {\n",
       "        vertical-align: top;\n",
       "    }\n",
       "\n",
       "    .dataframe thead th {\n",
       "        text-align: right;\n",
       "    }\n",
       "</style>\n",
       "<table border=\"1\" class=\"dataframe\">\n",
       "  <thead>\n",
       "    <tr style=\"text-align: right;\">\n",
       "      <th></th>\n",
       "      <th>LAD19CD</th>\n",
       "      <th>LAD19NM</th>\n",
       "      <th>CTY19CD</th>\n",
       "      <th>CTY19NM</th>\n",
       "      <th>FID</th>\n",
       "    </tr>\n",
       "  </thead>\n",
       "  <tbody>\n",
       "    <tr>\n",
       "      <td>0</td>\n",
       "      <td>E07000120</td>\n",
       "      <td>Hyndburn</td>\n",
       "      <td>E10000017</td>\n",
       "      <td>Lancashire</td>\n",
       "      <td>1</td>\n",
       "    </tr>\n",
       "    <tr>\n",
       "      <td>1</td>\n",
       "      <td>E07000121</td>\n",
       "      <td>Lancaster</td>\n",
       "      <td>E10000017</td>\n",
       "      <td>Lancashire</td>\n",
       "      <td>2</td>\n",
       "    </tr>\n",
       "    <tr>\n",
       "      <td>2</td>\n",
       "      <td>E07000122</td>\n",
       "      <td>Pendle</td>\n",
       "      <td>E10000017</td>\n",
       "      <td>Lancashire</td>\n",
       "      <td>3</td>\n",
       "    </tr>\n",
       "    <tr>\n",
       "      <td>3</td>\n",
       "      <td>E07000123</td>\n",
       "      <td>Preston</td>\n",
       "      <td>E10000017</td>\n",
       "      <td>Lancashire</td>\n",
       "      <td>4</td>\n",
       "    </tr>\n",
       "    <tr>\n",
       "      <td>4</td>\n",
       "      <td>E07000124</td>\n",
       "      <td>Ribble Valley</td>\n",
       "      <td>E10000017</td>\n",
       "      <td>Lancashire</td>\n",
       "      <td>5</td>\n",
       "    </tr>\n",
       "  </tbody>\n",
       "</table>\n",
       "</div>"
      ],
      "text/plain": [
       "     LAD19CD        LAD19NM    CTY19CD     CTY19NM  FID\n",
       "0  E07000120       Hyndburn  E10000017  Lancashire    1\n",
       "1  E07000121      Lancaster  E10000017  Lancashire    2\n",
       "2  E07000122         Pendle  E10000017  Lancashire    3\n",
       "3  E07000123        Preston  E10000017  Lancashire    4\n",
       "4  E07000124  Ribble Valley  E10000017  Lancashire    5"
      ]
     },
     "metadata": {},
     "output_type": "display_data"
    }
   ],
   "source": [
    "# Display the fisrt few lines of each lookup table\n",
    "for (lookup_name, df_lookup) in lookup_dataframes.items():\n",
    "    display(Markdown('***\\n'+lookup_name))\n",
    "    display(df_lookup.head())"
   ]
  },
  {
   "cell_type": "code",
   "execution_count": null,
   "metadata": {},
   "outputs": [],
   "source": []
  },
  {
   "cell_type": "markdown",
   "metadata": {},
   "source": [
    "### Create a lookup for the LAD code & name"
   ]
  },
  {
   "cell_type": "code",
   "execution_count": 7,
   "metadata": {},
   "outputs": [],
   "source": [
    "# Create a lookup for the LAD code & name\n",
    "df_LAD_name_lookup = lookup_dataframes['LAD_name_lookup'].reset_index()[['LAD19CD','LAD19NM']].set_index('LAD19CD').drop_duplicates()"
   ]
  },
  {
   "cell_type": "code",
   "execution_count": 8,
   "metadata": {},
   "outputs": [
    {
     "data": {
      "text/html": [
       "<div>\n",
       "<style scoped>\n",
       "    .dataframe tbody tr th:only-of-type {\n",
       "        vertical-align: middle;\n",
       "    }\n",
       "\n",
       "    .dataframe tbody tr th {\n",
       "        vertical-align: top;\n",
       "    }\n",
       "\n",
       "    .dataframe thead th {\n",
       "        text-align: right;\n",
       "    }\n",
       "</style>\n",
       "<table border=\"1\" class=\"dataframe\">\n",
       "  <thead>\n",
       "    <tr style=\"text-align: right;\">\n",
       "      <th></th>\n",
       "      <th>LAD19NM</th>\n",
       "    </tr>\n",
       "    <tr>\n",
       "      <th>LAD19CD</th>\n",
       "      <th></th>\n",
       "    </tr>\n",
       "  </thead>\n",
       "  <tbody>\n",
       "    <tr>\n",
       "      <td>E06000001</td>\n",
       "      <td>Hartlepool</td>\n",
       "    </tr>\n",
       "    <tr>\n",
       "      <td>E07000215</td>\n",
       "      <td>Tandridge</td>\n",
       "    </tr>\n",
       "    <tr>\n",
       "      <td>E07000084</td>\n",
       "      <td>Basingstoke and Deane</td>\n",
       "    </tr>\n",
       "    <tr>\n",
       "      <td>E06000002</td>\n",
       "      <td>Middlesbrough</td>\n",
       "    </tr>\n",
       "    <tr>\n",
       "      <td>E06000003</td>\n",
       "      <td>Redcar and Cleveland</td>\n",
       "    </tr>\n",
       "  </tbody>\n",
       "</table>\n",
       "</div>"
      ],
      "text/plain": [
       "                         LAD19NM\n",
       "LAD19CD                         \n",
       "E06000001             Hartlepool\n",
       "E07000215              Tandridge\n",
       "E07000084  Basingstoke and Deane\n",
       "E06000002          Middlesbrough\n",
       "E06000003   Redcar and Cleveland"
      ]
     },
     "execution_count": 8,
     "metadata": {},
     "output_type": "execute_result"
    }
   ],
   "source": [
    "df_LAD_name_lookup.head()"
   ]
  },
  {
   "cell_type": "code",
   "execution_count": null,
   "metadata": {},
   "outputs": [],
   "source": []
  },
  {
   "cell_type": "markdown",
   "metadata": {},
   "source": [
    "***\n",
    "## Read the timestamped csv data files and combine them into a single timeseries"
   ]
  },
  {
   "cell_type": "markdown",
   "metadata": {},
   "source": [
    "### Read the csvs"
   ]
  },
  {
   "cell_type": "code",
   "execution_count": 9,
   "metadata": {},
   "outputs": [],
   "source": [
    "# Search for all the data csvs and create a list of the file paths\n",
    "file_search_string = daily_file_prefix + \"*.csv\"\n",
    "data_files = glob.glob(os.path.join(data_folder, file_search_string))\n",
    "\n",
    "# Read each csv into a list of dataframes, then combine the list of dataframes into one dataframe\n",
    "df_from_each_file = (pd.read_csv(f,index_col=0) for f in data_files)\n",
    "df_combined = pd.concat(df_from_each_file, ignore_index=True,sort=False)\n"
   ]
  },
  {
   "cell_type": "code",
   "execution_count": 10,
   "metadata": {
    "scrolled": true
   },
   "outputs": [
    {
     "data": {
      "text/html": [
       "<div>\n",
       "<style scoped>\n",
       "    .dataframe tbody tr th:only-of-type {\n",
       "        vertical-align: middle;\n",
       "    }\n",
       "\n",
       "    .dataframe tbody tr th {\n",
       "        vertical-align: top;\n",
       "    }\n",
       "\n",
       "    .dataframe thead th {\n",
       "        text-align: right;\n",
       "    }\n",
       "</style>\n",
       "<table border=\"1\" class=\"dataframe\">\n",
       "  <thead>\n",
       "    <tr style=\"text-align: right;\">\n",
       "      <th></th>\n",
       "      <th>GSS_CD</th>\n",
       "      <th>GSS_NM</th>\n",
       "      <th>TotalCases</th>\n",
       "      <th>time_stamp</th>\n",
       "    </tr>\n",
       "  </thead>\n",
       "  <tbody>\n",
       "    <tr>\n",
       "      <td>0</td>\n",
       "      <td>E09000002</td>\n",
       "      <td>Barking and Dagenham</td>\n",
       "      <td>14</td>\n",
       "      <td>2020-03-19 13:55:00.000000</td>\n",
       "    </tr>\n",
       "    <tr>\n",
       "      <td>1</td>\n",
       "      <td>E09000003</td>\n",
       "      <td>Barnet</td>\n",
       "      <td>27</td>\n",
       "      <td>2020-03-19 13:55:00.000000</td>\n",
       "    </tr>\n",
       "    <tr>\n",
       "      <td>2</td>\n",
       "      <td>E08000016</td>\n",
       "      <td>Barnsley</td>\n",
       "      <td>6</td>\n",
       "      <td>2020-03-19 13:55:00.000000</td>\n",
       "    </tr>\n",
       "    <tr>\n",
       "      <td>3</td>\n",
       "      <td>E06000022</td>\n",
       "      <td>Bath and North East Somerset</td>\n",
       "      <td>3</td>\n",
       "      <td>2020-03-19 13:55:00.000000</td>\n",
       "    </tr>\n",
       "    <tr>\n",
       "      <td>4</td>\n",
       "      <td>E06000055</td>\n",
       "      <td>Bedford</td>\n",
       "      <td>1</td>\n",
       "      <td>2020-03-19 13:55:00.000000</td>\n",
       "    </tr>\n",
       "  </tbody>\n",
       "</table>\n",
       "</div>"
      ],
      "text/plain": [
       "      GSS_CD                        GSS_NM  TotalCases  \\\n",
       "0  E09000002          Barking and Dagenham          14   \n",
       "1  E09000003                        Barnet          27   \n",
       "2  E08000016                      Barnsley           6   \n",
       "3  E06000022  Bath and North East Somerset           3   \n",
       "4  E06000055                       Bedford           1   \n",
       "\n",
       "                   time_stamp  \n",
       "0  2020-03-19 13:55:00.000000  \n",
       "1  2020-03-19 13:55:00.000000  \n",
       "2  2020-03-19 13:55:00.000000  \n",
       "3  2020-03-19 13:55:00.000000  \n",
       "4  2020-03-19 13:55:00.000000  "
      ]
     },
     "execution_count": 10,
     "metadata": {},
     "output_type": "execute_result"
    }
   ],
   "source": [
    "df_combined.head()"
   ]
  },
  {
   "cell_type": "code",
   "execution_count": null,
   "metadata": {},
   "outputs": [],
   "source": []
  },
  {
   "cell_type": "markdown",
   "metadata": {},
   "source": [
    "### Get the actual day the data refers to from the time_stamp\n",
    "The data is collected the day after it is released, so subtract 1 day from the time_stamp"
   ]
  },
  {
   "cell_type": "code",
   "execution_count": 11,
   "metadata": {},
   "outputs": [],
   "source": [
    "# Convert the 'time_stamp' column to pandas datetime\n",
    "df_combined['time_stamp']=pd.to_datetime(df_combined['time_stamp'])"
   ]
  },
  {
   "cell_type": "code",
   "execution_count": 12,
   "metadata": {},
   "outputs": [
    {
     "data": {
      "text/plain": [
       "GSS_CD                object\n",
       "GSS_NM                object\n",
       "TotalCases             int64\n",
       "time_stamp    datetime64[ns]\n",
       "dtype: object"
      ]
     },
     "execution_count": 12,
     "metadata": {},
     "output_type": "execute_result"
    }
   ],
   "source": [
    "# Check that the time_stamp datatype is a pandas datetime (datetime64[ns])\n",
    "df_combined.dtypes"
   ]
  },
  {
   "cell_type": "code",
   "execution_count": 13,
   "metadata": {},
   "outputs": [],
   "source": [
    "# Add a column for the year\n",
    "df_combined['year']=df_combined['time_stamp'].dt.year\n",
    "\n",
    "# Add a column for the day of the year\n",
    "df_combined['day']=df_combined['time_stamp'].dt.dayofyear - 1\n",
    "\n",
    "# Combine the Year\n",
    "df_combined['date']=pd.to_datetime(df_combined['year'] * 1000 + df_combined['day'], format='%Y%j')"
   ]
  },
  {
   "cell_type": "code",
   "execution_count": 14,
   "metadata": {},
   "outputs": [],
   "source": [
    "# Remove the redundant 'year' and 'time_stamp' columns\n",
    "df_combined.drop(['year','time_stamp'],axis=1,inplace=True)"
   ]
  },
  {
   "cell_type": "code",
   "execution_count": 15,
   "metadata": {},
   "outputs": [
    {
     "data": {
      "text/html": [
       "<div>\n",
       "<style scoped>\n",
       "    .dataframe tbody tr th:only-of-type {\n",
       "        vertical-align: middle;\n",
       "    }\n",
       "\n",
       "    .dataframe tbody tr th {\n",
       "        vertical-align: top;\n",
       "    }\n",
       "\n",
       "    .dataframe thead th {\n",
       "        text-align: right;\n",
       "    }\n",
       "</style>\n",
       "<table border=\"1\" class=\"dataframe\">\n",
       "  <thead>\n",
       "    <tr style=\"text-align: right;\">\n",
       "      <th></th>\n",
       "      <th>GSS_CD</th>\n",
       "      <th>GSS_NM</th>\n",
       "      <th>TotalCases</th>\n",
       "      <th>day</th>\n",
       "      <th>date</th>\n",
       "    </tr>\n",
       "  </thead>\n",
       "  <tbody>\n",
       "    <tr>\n",
       "      <td>0</td>\n",
       "      <td>E09000002</td>\n",
       "      <td>Barking and Dagenham</td>\n",
       "      <td>14</td>\n",
       "      <td>78</td>\n",
       "      <td>2020-03-18</td>\n",
       "    </tr>\n",
       "    <tr>\n",
       "      <td>1</td>\n",
       "      <td>E09000003</td>\n",
       "      <td>Barnet</td>\n",
       "      <td>27</td>\n",
       "      <td>78</td>\n",
       "      <td>2020-03-18</td>\n",
       "    </tr>\n",
       "    <tr>\n",
       "      <td>2</td>\n",
       "      <td>E08000016</td>\n",
       "      <td>Barnsley</td>\n",
       "      <td>6</td>\n",
       "      <td>78</td>\n",
       "      <td>2020-03-18</td>\n",
       "    </tr>\n",
       "    <tr>\n",
       "      <td>3</td>\n",
       "      <td>E06000022</td>\n",
       "      <td>Bath and North East Somerset</td>\n",
       "      <td>3</td>\n",
       "      <td>78</td>\n",
       "      <td>2020-03-18</td>\n",
       "    </tr>\n",
       "    <tr>\n",
       "      <td>4</td>\n",
       "      <td>E06000055</td>\n",
       "      <td>Bedford</td>\n",
       "      <td>1</td>\n",
       "      <td>78</td>\n",
       "      <td>2020-03-18</td>\n",
       "    </tr>\n",
       "  </tbody>\n",
       "</table>\n",
       "</div>"
      ],
      "text/plain": [
       "      GSS_CD                        GSS_NM  TotalCases  day       date\n",
       "0  E09000002          Barking and Dagenham          14   78 2020-03-18\n",
       "1  E09000003                        Barnet          27   78 2020-03-18\n",
       "2  E08000016                      Barnsley           6   78 2020-03-18\n",
       "3  E06000022  Bath and North East Somerset           3   78 2020-03-18\n",
       "4  E06000055                       Bedford           1   78 2020-03-18"
      ]
     },
     "execution_count": 15,
     "metadata": {},
     "output_type": "execute_result"
    }
   ],
   "source": [
    "df_combined.head()"
   ]
  },
  {
   "cell_type": "code",
   "execution_count": null,
   "metadata": {},
   "outputs": [],
   "source": []
  },
  {
   "cell_type": "markdown",
   "metadata": {},
   "source": [
    "## Find the LAD / County codes for the data\n",
    "'GSS_CD' sometimes refers to an LAD, and sometimes to a county. "
   ]
  },
  {
   "cell_type": "markdown",
   "metadata": {},
   "source": []
  },
  {
   "cell_type": "code",
   "execution_count": 16,
   "metadata": {},
   "outputs": [
    {
     "data": {
      "text/html": [
       "<div>\n",
       "<style scoped>\n",
       "    .dataframe tbody tr th:only-of-type {\n",
       "        vertical-align: middle;\n",
       "    }\n",
       "\n",
       "    .dataframe tbody tr th {\n",
       "        vertical-align: top;\n",
       "    }\n",
       "\n",
       "    .dataframe thead th {\n",
       "        text-align: right;\n",
       "    }\n",
       "</style>\n",
       "<table border=\"1\" class=\"dataframe\">\n",
       "  <thead>\n",
       "    <tr style=\"text-align: right;\">\n",
       "      <th></th>\n",
       "      <th>LAD19NM</th>\n",
       "    </tr>\n",
       "    <tr>\n",
       "      <th>LAD19CD</th>\n",
       "      <th></th>\n",
       "    </tr>\n",
       "  </thead>\n",
       "  <tbody>\n",
       "    <tr>\n",
       "      <td>E06000001</td>\n",
       "      <td>Hartlepool</td>\n",
       "    </tr>\n",
       "    <tr>\n",
       "      <td>E07000215</td>\n",
       "      <td>Tandridge</td>\n",
       "    </tr>\n",
       "    <tr>\n",
       "      <td>E07000084</td>\n",
       "      <td>Basingstoke and Deane</td>\n",
       "    </tr>\n",
       "    <tr>\n",
       "      <td>E06000002</td>\n",
       "      <td>Middlesbrough</td>\n",
       "    </tr>\n",
       "    <tr>\n",
       "      <td>E06000003</td>\n",
       "      <td>Redcar and Cleveland</td>\n",
       "    </tr>\n",
       "  </tbody>\n",
       "</table>\n",
       "</div>"
      ],
      "text/plain": [
       "                         LAD19NM\n",
       "LAD19CD                         \n",
       "E06000001             Hartlepool\n",
       "E07000215              Tandridge\n",
       "E07000084  Basingstoke and Deane\n",
       "E06000002          Middlesbrough\n",
       "E06000003   Redcar and Cleveland"
      ]
     },
     "execution_count": 16,
     "metadata": {},
     "output_type": "execute_result"
    }
   ],
   "source": [
    "# Show the first few lines of the LAD_name_lookup\n",
    "df_LAD_name_lookup.head()"
   ]
  },
  {
   "cell_type": "code",
   "execution_count": 17,
   "metadata": {},
   "outputs": [],
   "source": [
    "# Get a list of all the GSS codes referenced in the data\n",
    "GSS_codes_in_data = df_combined.reset_index()['GSS_CD'].drop_duplicates()"
   ]
  },
  {
   "cell_type": "code",
   "execution_count": 18,
   "metadata": {},
   "outputs": [],
   "source": [
    "# Get the number of LADs listed in the LAD name lookup\n",
    "number_of_LADs_in_total = len(df_LAD_name_lookup)"
   ]
  },
  {
   "cell_type": "code",
   "execution_count": 19,
   "metadata": {},
   "outputs": [],
   "source": [
    "# Get a dataframe containing all the LADs not referenced in the data\n",
    "df_LADs_not_in_data = df_LAD_name_lookup.loc[~df_LAD_name_lookup.index.isin(GSS_codes_in_data)]"
   ]
  },
  {
   "cell_type": "code",
   "execution_count": 20,
   "metadata": {},
   "outputs": [],
   "source": [
    "# Get the number of GSS codes referenced in the data\n",
    "number_of_GSS_codes_in_data = len(GSS_codes_in_data)"
   ]
  },
  {
   "cell_type": "code",
   "execution_count": null,
   "metadata": {},
   "outputs": [],
   "source": []
  },
  {
   "cell_type": "code",
   "execution_count": null,
   "metadata": {},
   "outputs": [],
   "source": []
  },
  {
   "cell_type": "code",
   "execution_count": 21,
   "metadata": {},
   "outputs": [],
   "source": [
    "number_of_LADs_not_in_data = len(df_LADs_not_in_data)"
   ]
  },
  {
   "cell_type": "code",
   "execution_count": 22,
   "metadata": {},
   "outputs": [
    {
     "data": {
      "text/plain": [
       "382"
      ]
     },
     "execution_count": 22,
     "metadata": {},
     "output_type": "execute_result"
    }
   ],
   "source": [
    "number_of_LADs_in_total"
   ]
  },
  {
   "cell_type": "code",
   "execution_count": 23,
   "metadata": {},
   "outputs": [
    {
     "data": {
      "text/plain": [
       "149"
      ]
     },
     "execution_count": 23,
     "metadata": {},
     "output_type": "execute_result"
    }
   ],
   "source": [
    "number_of_GSS_codes_in_data"
   ]
  },
  {
   "cell_type": "code",
   "execution_count": 24,
   "metadata": {},
   "outputs": [
    {
     "data": {
      "text/plain": [
       "259"
      ]
     },
     "execution_count": 24,
     "metadata": {},
     "output_type": "execute_result"
    }
   ],
   "source": [
    "number_of_LADs_not_in_data"
   ]
  },
  {
   "cell_type": "code",
   "execution_count": 25,
   "metadata": {},
   "outputs": [
    {
     "data": {
      "text/plain": [
       "408"
      ]
     },
     "execution_count": 25,
     "metadata": {},
     "output_type": "execute_result"
    }
   ],
   "source": [
    "number_of_GSS_codes_in_data + number_of_LADs_not_in_data"
   ]
  },
  {
   "cell_type": "code",
   "execution_count": null,
   "metadata": {},
   "outputs": [],
   "source": []
  },
  {
   "cell_type": "code",
   "execution_count": 26,
   "metadata": {},
   "outputs": [],
   "source": [
    "# Get a series containing all the GSS references in the data that are found in the LAD lookup\n",
    "df_GSS_is_LAD = GSS_codes_in_data[GSS_codes_in_data.isin(df_LAD_name_lookup.index)]"
   ]
  },
  {
   "cell_type": "code",
   "execution_count": 27,
   "metadata": {},
   "outputs": [],
   "source": [
    "# Get a series containing all the GSS references in the data that not found in the LAD lookup\n",
    "df_GSS_is_CTY = GSS_codes_in_data[~GSS_codes_in_data.isin(df_LAD_name_lookup.index)]"
   ]
  },
  {
   "cell_type": "code",
   "execution_count": null,
   "metadata": {},
   "outputs": [],
   "source": []
  },
  {
   "cell_type": "code",
   "execution_count": 28,
   "metadata": {},
   "outputs": [],
   "source": [
    "df_LAD_to_CTY_lookup = lookup_dataframes['LAD_to_CTY_lookup']"
   ]
  },
  {
   "cell_type": "code",
   "execution_count": 29,
   "metadata": {
    "scrolled": true
   },
   "outputs": [
    {
     "data": {
      "text/html": [
       "<div>\n",
       "<style scoped>\n",
       "    .dataframe tbody tr th:only-of-type {\n",
       "        vertical-align: middle;\n",
       "    }\n",
       "\n",
       "    .dataframe tbody tr th {\n",
       "        vertical-align: top;\n",
       "    }\n",
       "\n",
       "    .dataframe thead th {\n",
       "        text-align: right;\n",
       "    }\n",
       "</style>\n",
       "<table border=\"1\" class=\"dataframe\">\n",
       "  <thead>\n",
       "    <tr style=\"text-align: right;\">\n",
       "      <th></th>\n",
       "      <th>LAD19CD</th>\n",
       "      <th>LAD19NM</th>\n",
       "      <th>CTY19CD</th>\n",
       "      <th>CTY19NM</th>\n",
       "      <th>FID</th>\n",
       "    </tr>\n",
       "  </thead>\n",
       "  <tbody>\n",
       "    <tr>\n",
       "      <td>0</td>\n",
       "      <td>E07000120</td>\n",
       "      <td>Hyndburn</td>\n",
       "      <td>E10000017</td>\n",
       "      <td>Lancashire</td>\n",
       "      <td>1</td>\n",
       "    </tr>\n",
       "    <tr>\n",
       "      <td>1</td>\n",
       "      <td>E07000121</td>\n",
       "      <td>Lancaster</td>\n",
       "      <td>E10000017</td>\n",
       "      <td>Lancashire</td>\n",
       "      <td>2</td>\n",
       "    </tr>\n",
       "    <tr>\n",
       "      <td>2</td>\n",
       "      <td>E07000122</td>\n",
       "      <td>Pendle</td>\n",
       "      <td>E10000017</td>\n",
       "      <td>Lancashire</td>\n",
       "      <td>3</td>\n",
       "    </tr>\n",
       "    <tr>\n",
       "      <td>3</td>\n",
       "      <td>E07000123</td>\n",
       "      <td>Preston</td>\n",
       "      <td>E10000017</td>\n",
       "      <td>Lancashire</td>\n",
       "      <td>4</td>\n",
       "    </tr>\n",
       "    <tr>\n",
       "      <td>4</td>\n",
       "      <td>E07000124</td>\n",
       "      <td>Ribble Valley</td>\n",
       "      <td>E10000017</td>\n",
       "      <td>Lancashire</td>\n",
       "      <td>5</td>\n",
       "    </tr>\n",
       "  </tbody>\n",
       "</table>\n",
       "</div>"
      ],
      "text/plain": [
       "     LAD19CD        LAD19NM    CTY19CD     CTY19NM  FID\n",
       "0  E07000120       Hyndburn  E10000017  Lancashire    1\n",
       "1  E07000121      Lancaster  E10000017  Lancashire    2\n",
       "2  E07000122         Pendle  E10000017  Lancashire    3\n",
       "3  E07000123        Preston  E10000017  Lancashire    4\n",
       "4  E07000124  Ribble Valley  E10000017  Lancashire    5"
      ]
     },
     "execution_count": 29,
     "metadata": {},
     "output_type": "execute_result"
    }
   ],
   "source": [
    "df_LAD_to_CTY_lookup.head()"
   ]
  },
  {
   "cell_type": "code",
   "execution_count": 30,
   "metadata": {},
   "outputs": [],
   "source": [
    "df_combined.set_index('GSS_CD',inplace=True)"
   ]
  },
  {
   "cell_type": "code",
   "execution_count": 31,
   "metadata": {},
   "outputs": [
    {
     "data": {
      "text/html": [
       "<div>\n",
       "<style scoped>\n",
       "    .dataframe tbody tr th:only-of-type {\n",
       "        vertical-align: middle;\n",
       "    }\n",
       "\n",
       "    .dataframe tbody tr th {\n",
       "        vertical-align: top;\n",
       "    }\n",
       "\n",
       "    .dataframe thead th {\n",
       "        text-align: right;\n",
       "    }\n",
       "</style>\n",
       "<table border=\"1\" class=\"dataframe\">\n",
       "  <thead>\n",
       "    <tr style=\"text-align: right;\">\n",
       "      <th></th>\n",
       "      <th>GSS_NM</th>\n",
       "      <th>TotalCases</th>\n",
       "      <th>day</th>\n",
       "      <th>date</th>\n",
       "    </tr>\n",
       "    <tr>\n",
       "      <th>GSS_CD</th>\n",
       "      <th></th>\n",
       "      <th></th>\n",
       "      <th></th>\n",
       "      <th></th>\n",
       "    </tr>\n",
       "  </thead>\n",
       "  <tbody>\n",
       "    <tr>\n",
       "      <td>E09000002</td>\n",
       "      <td>Barking and Dagenham</td>\n",
       "      <td>14</td>\n",
       "      <td>78</td>\n",
       "      <td>2020-03-18</td>\n",
       "    </tr>\n",
       "    <tr>\n",
       "      <td>E09000003</td>\n",
       "      <td>Barnet</td>\n",
       "      <td>27</td>\n",
       "      <td>78</td>\n",
       "      <td>2020-03-18</td>\n",
       "    </tr>\n",
       "    <tr>\n",
       "      <td>E08000016</td>\n",
       "      <td>Barnsley</td>\n",
       "      <td>6</td>\n",
       "      <td>78</td>\n",
       "      <td>2020-03-18</td>\n",
       "    </tr>\n",
       "    <tr>\n",
       "      <td>E06000022</td>\n",
       "      <td>Bath and North East Somerset</td>\n",
       "      <td>3</td>\n",
       "      <td>78</td>\n",
       "      <td>2020-03-18</td>\n",
       "    </tr>\n",
       "    <tr>\n",
       "      <td>E06000055</td>\n",
       "      <td>Bedford</td>\n",
       "      <td>1</td>\n",
       "      <td>78</td>\n",
       "      <td>2020-03-18</td>\n",
       "    </tr>\n",
       "  </tbody>\n",
       "</table>\n",
       "</div>"
      ],
      "text/plain": [
       "                                 GSS_NM  TotalCases  day       date\n",
       "GSS_CD                                                             \n",
       "E09000002          Barking and Dagenham          14   78 2020-03-18\n",
       "E09000003                        Barnet          27   78 2020-03-18\n",
       "E08000016                      Barnsley           6   78 2020-03-18\n",
       "E06000022  Bath and North East Somerset           3   78 2020-03-18\n",
       "E06000055                       Bedford           1   78 2020-03-18"
      ]
     },
     "execution_count": 31,
     "metadata": {},
     "output_type": "execute_result"
    }
   ],
   "source": [
    "df_combined.head()"
   ]
  },
  {
   "cell_type": "code",
   "execution_count": null,
   "metadata": {},
   "outputs": [],
   "source": []
  },
  {
   "cell_type": "code",
   "execution_count": 32,
   "metadata": {},
   "outputs": [],
   "source": [
    "# Add a column to show if the data was collected at LAD level or county level\n",
    "df_combined['area_type'] = np.where(df_combined.index.isin(df_GSS_is_LAD), 'LAD', 'CTY')\n"
   ]
  },
  {
   "cell_type": "code",
   "execution_count": 33,
   "metadata": {},
   "outputs": [
    {
     "data": {
      "text/html": [
       "<div>\n",
       "<style scoped>\n",
       "    .dataframe tbody tr th:only-of-type {\n",
       "        vertical-align: middle;\n",
       "    }\n",
       "\n",
       "    .dataframe tbody tr th {\n",
       "        vertical-align: top;\n",
       "    }\n",
       "\n",
       "    .dataframe thead th {\n",
       "        text-align: right;\n",
       "    }\n",
       "</style>\n",
       "<table border=\"1\" class=\"dataframe\">\n",
       "  <thead>\n",
       "    <tr style=\"text-align: right;\">\n",
       "      <th></th>\n",
       "      <th>GSS_NM</th>\n",
       "      <th>TotalCases</th>\n",
       "      <th>day</th>\n",
       "      <th>date</th>\n",
       "      <th>area_type</th>\n",
       "    </tr>\n",
       "    <tr>\n",
       "      <th>GSS_CD</th>\n",
       "      <th></th>\n",
       "      <th></th>\n",
       "      <th></th>\n",
       "      <th></th>\n",
       "      <th></th>\n",
       "    </tr>\n",
       "  </thead>\n",
       "  <tbody>\n",
       "  </tbody>\n",
       "</table>\n",
       "</div>"
      ],
      "text/plain": [
       "Empty DataFrame\n",
       "Columns: [GSS_NM, TotalCases, day, date, area_type]\n",
       "Index: []"
      ]
     },
     "execution_count": 33,
     "metadata": {},
     "output_type": "execute_result"
    }
   ],
   "source": [
    "df_combined[df_combined['area_type']==False].head()"
   ]
  },
  {
   "cell_type": "code",
   "execution_count": 34,
   "metadata": {},
   "outputs": [],
   "source": [
    "# Join with LAD_to_CTY_lookup to add county to data that is at LAD level (i.e. the GSS code refers to an LAD)\n",
    "df_combined_county = df_combined.join(df_LAD_to_CTY_lookup[['LAD19CD','CTY19CD','CTY19NM']].set_index('LAD19CD'))\n",
    "df_combined_county.index.rename('GSS_CD',inplace=True)"
   ]
  },
  {
   "cell_type": "code",
   "execution_count": 35,
   "metadata": {
    "scrolled": true
   },
   "outputs": [],
   "source": [
    "df_combined_county.reset_index(inplace=True)"
   ]
  },
  {
   "cell_type": "code",
   "execution_count": 36,
   "metadata": {},
   "outputs": [],
   "source": [
    "# If the GSS code is at CTY level, use the GSS code / name for the CTY code / name\n",
    "df_combined_county['CTY19CD'] = np.where(df_combined_county['GSS_CD'].isin(df_GSS_is_CTY), df_combined_county['GSS_CD'],df_combined_county['CTY19CD'])\n",
    "df_combined_county['CTY19NM'] = np.where(df_combined_county['GSS_CD'].isin(df_GSS_is_CTY), df_combined_county['GSS_NM'],df_combined_county['CTY19NM'])"
   ]
  },
  {
   "cell_type": "markdown",
   "metadata": {},
   "source": [
    "Some LADs aren't in the LAD_to_CTY_lookup:"
   ]
  },
  {
   "cell_type": "code",
   "execution_count": 37,
   "metadata": {},
   "outputs": [
    {
     "data": {
      "text/html": [
       "<div>\n",
       "<style scoped>\n",
       "    .dataframe tbody tr th:only-of-type {\n",
       "        vertical-align: middle;\n",
       "    }\n",
       "\n",
       "    .dataframe tbody tr th {\n",
       "        vertical-align: top;\n",
       "    }\n",
       "\n",
       "    .dataframe thead th {\n",
       "        text-align: right;\n",
       "    }\n",
       "</style>\n",
       "<table border=\"1\" class=\"dataframe\">\n",
       "  <thead>\n",
       "    <tr style=\"text-align: right;\">\n",
       "      <th></th>\n",
       "      <th>GSS_CD</th>\n",
       "      <th>GSS_NM</th>\n",
       "      <th>TotalCases</th>\n",
       "      <th>day</th>\n",
       "      <th>date</th>\n",
       "      <th>area_type</th>\n",
       "      <th>CTY19CD</th>\n",
       "      <th>CTY19NM</th>\n",
       "    </tr>\n",
       "  </thead>\n",
       "  <tbody>\n",
       "    <tr>\n",
       "      <td>0</td>\n",
       "      <td>E06000001</td>\n",
       "      <td>Hartlepool</td>\n",
       "      <td>1</td>\n",
       "      <td>78</td>\n",
       "      <td>2020-03-18</td>\n",
       "      <td>LAD</td>\n",
       "      <td>NaN</td>\n",
       "      <td>NaN</td>\n",
       "    </tr>\n",
       "    <tr>\n",
       "      <td>1</td>\n",
       "      <td>E06000001</td>\n",
       "      <td>Hartlepool</td>\n",
       "      <td>2</td>\n",
       "      <td>79</td>\n",
       "      <td>2020-03-19</td>\n",
       "      <td>LAD</td>\n",
       "      <td>NaN</td>\n",
       "      <td>NaN</td>\n",
       "    </tr>\n",
       "    <tr>\n",
       "      <td>2</td>\n",
       "      <td>E06000001</td>\n",
       "      <td>Hartlepool</td>\n",
       "      <td>2</td>\n",
       "      <td>80</td>\n",
       "      <td>2020-03-20</td>\n",
       "      <td>LAD</td>\n",
       "      <td>NaN</td>\n",
       "      <td>NaN</td>\n",
       "    </tr>\n",
       "    <tr>\n",
       "      <td>3</td>\n",
       "      <td>E06000001</td>\n",
       "      <td>Hartlepool</td>\n",
       "      <td>2</td>\n",
       "      <td>81</td>\n",
       "      <td>2020-03-21</td>\n",
       "      <td>LAD</td>\n",
       "      <td>NaN</td>\n",
       "      <td>NaN</td>\n",
       "    </tr>\n",
       "    <tr>\n",
       "      <td>4</td>\n",
       "      <td>E06000001</td>\n",
       "      <td>Hartlepool</td>\n",
       "      <td>2</td>\n",
       "      <td>82</td>\n",
       "      <td>2020-03-22</td>\n",
       "      <td>LAD</td>\n",
       "      <td>NaN</td>\n",
       "      <td>NaN</td>\n",
       "    </tr>\n",
       "  </tbody>\n",
       "</table>\n",
       "</div>"
      ],
      "text/plain": [
       "      GSS_CD      GSS_NM  TotalCases  day       date area_type CTY19CD CTY19NM\n",
       "0  E06000001  Hartlepool           1   78 2020-03-18       LAD     NaN     NaN\n",
       "1  E06000001  Hartlepool           2   79 2020-03-19       LAD     NaN     NaN\n",
       "2  E06000001  Hartlepool           2   80 2020-03-20       LAD     NaN     NaN\n",
       "3  E06000001  Hartlepool           2   81 2020-03-21       LAD     NaN     NaN\n",
       "4  E06000001  Hartlepool           2   82 2020-03-22       LAD     NaN     NaN"
      ]
     },
     "execution_count": 37,
     "metadata": {},
     "output_type": "execute_result"
    }
   ],
   "source": [
    "df_combined_county[df_combined_county['CTY19CD'].isna()].head()"
   ]
  },
  {
   "cell_type": "code",
   "execution_count": null,
   "metadata": {},
   "outputs": [],
   "source": []
  },
  {
   "cell_type": "code",
   "execution_count": 38,
   "metadata": {},
   "outputs": [],
   "source": [
    "df_combined_LAD_county = df_combined_county.copy()"
   ]
  },
  {
   "cell_type": "code",
   "execution_count": 39,
   "metadata": {},
   "outputs": [],
   "source": [
    "df_combined_LAD_county['LAD19CD'] = np.where(df_combined_LAD_county['GSS_CD'].isin(df_GSS_is_LAD), df_combined_LAD_county['GSS_CD'],np.NaN)\n",
    "df_combined_LAD_county['LAD19NM'] = np.where(df_combined_LAD_county['GSS_CD'].isin(df_GSS_is_LAD), df_combined_LAD_county['GSS_NM'],np.NaN)"
   ]
  },
  {
   "cell_type": "code",
   "execution_count": null,
   "metadata": {},
   "outputs": [],
   "source": []
  },
  {
   "cell_type": "code",
   "execution_count": 40,
   "metadata": {},
   "outputs": [
    {
     "data": {
      "text/html": [
       "<div>\n",
       "<style scoped>\n",
       "    .dataframe tbody tr th:only-of-type {\n",
       "        vertical-align: middle;\n",
       "    }\n",
       "\n",
       "    .dataframe tbody tr th {\n",
       "        vertical-align: top;\n",
       "    }\n",
       "\n",
       "    .dataframe thead th {\n",
       "        text-align: right;\n",
       "    }\n",
       "</style>\n",
       "<table border=\"1\" class=\"dataframe\">\n",
       "  <thead>\n",
       "    <tr style=\"text-align: right;\">\n",
       "      <th></th>\n",
       "      <th>GSS_CD</th>\n",
       "      <th>GSS_NM</th>\n",
       "      <th>TotalCases</th>\n",
       "      <th>day</th>\n",
       "      <th>date</th>\n",
       "      <th>area_type</th>\n",
       "      <th>CTY19CD</th>\n",
       "      <th>CTY19NM</th>\n",
       "      <th>LAD19CD</th>\n",
       "      <th>LAD19NM</th>\n",
       "    </tr>\n",
       "  </thead>\n",
       "  <tbody>\n",
       "    <tr>\n",
       "      <td>0</td>\n",
       "      <td>E06000001</td>\n",
       "      <td>Hartlepool</td>\n",
       "      <td>1</td>\n",
       "      <td>78</td>\n",
       "      <td>2020-03-18</td>\n",
       "      <td>LAD</td>\n",
       "      <td>NaN</td>\n",
       "      <td>NaN</td>\n",
       "      <td>E06000001</td>\n",
       "      <td>Hartlepool</td>\n",
       "    </tr>\n",
       "    <tr>\n",
       "      <td>1</td>\n",
       "      <td>E06000001</td>\n",
       "      <td>Hartlepool</td>\n",
       "      <td>2</td>\n",
       "      <td>79</td>\n",
       "      <td>2020-03-19</td>\n",
       "      <td>LAD</td>\n",
       "      <td>NaN</td>\n",
       "      <td>NaN</td>\n",
       "      <td>E06000001</td>\n",
       "      <td>Hartlepool</td>\n",
       "    </tr>\n",
       "    <tr>\n",
       "      <td>2</td>\n",
       "      <td>E06000001</td>\n",
       "      <td>Hartlepool</td>\n",
       "      <td>2</td>\n",
       "      <td>80</td>\n",
       "      <td>2020-03-20</td>\n",
       "      <td>LAD</td>\n",
       "      <td>NaN</td>\n",
       "      <td>NaN</td>\n",
       "      <td>E06000001</td>\n",
       "      <td>Hartlepool</td>\n",
       "    </tr>\n",
       "    <tr>\n",
       "      <td>3</td>\n",
       "      <td>E06000001</td>\n",
       "      <td>Hartlepool</td>\n",
       "      <td>2</td>\n",
       "      <td>81</td>\n",
       "      <td>2020-03-21</td>\n",
       "      <td>LAD</td>\n",
       "      <td>NaN</td>\n",
       "      <td>NaN</td>\n",
       "      <td>E06000001</td>\n",
       "      <td>Hartlepool</td>\n",
       "    </tr>\n",
       "    <tr>\n",
       "      <td>4</td>\n",
       "      <td>E06000001</td>\n",
       "      <td>Hartlepool</td>\n",
       "      <td>2</td>\n",
       "      <td>82</td>\n",
       "      <td>2020-03-22</td>\n",
       "      <td>LAD</td>\n",
       "      <td>NaN</td>\n",
       "      <td>NaN</td>\n",
       "      <td>E06000001</td>\n",
       "      <td>Hartlepool</td>\n",
       "    </tr>\n",
       "  </tbody>\n",
       "</table>\n",
       "</div>"
      ],
      "text/plain": [
       "      GSS_CD      GSS_NM  TotalCases  day       date area_type CTY19CD  \\\n",
       "0  E06000001  Hartlepool           1   78 2020-03-18       LAD     NaN   \n",
       "1  E06000001  Hartlepool           2   79 2020-03-19       LAD     NaN   \n",
       "2  E06000001  Hartlepool           2   80 2020-03-20       LAD     NaN   \n",
       "3  E06000001  Hartlepool           2   81 2020-03-21       LAD     NaN   \n",
       "4  E06000001  Hartlepool           2   82 2020-03-22       LAD     NaN   \n",
       "\n",
       "  CTY19NM    LAD19CD     LAD19NM  \n",
       "0     NaN  E06000001  Hartlepool  \n",
       "1     NaN  E06000001  Hartlepool  \n",
       "2     NaN  E06000001  Hartlepool  \n",
       "3     NaN  E06000001  Hartlepool  \n",
       "4     NaN  E06000001  Hartlepool  "
      ]
     },
     "execution_count": 40,
     "metadata": {},
     "output_type": "execute_result"
    }
   ],
   "source": [
    "df_combined_LAD_county.head()"
   ]
  },
  {
   "cell_type": "code",
   "execution_count": null,
   "metadata": {},
   "outputs": [],
   "source": []
  },
  {
   "cell_type": "code",
   "execution_count": null,
   "metadata": {},
   "outputs": [],
   "source": []
  },
  {
   "cell_type": "code",
   "execution_count": null,
   "metadata": {},
   "outputs": [],
   "source": []
  },
  {
   "cell_type": "markdown",
   "metadata": {},
   "source": [
    "### Index the data"
   ]
  },
  {
   "cell_type": "code",
   "execution_count": null,
   "metadata": {},
   "outputs": [],
   "source": []
  },
  {
   "cell_type": "code",
   "execution_count": null,
   "metadata": {},
   "outputs": [],
   "source": []
  },
  {
   "cell_type": "code",
   "execution_count": 41,
   "metadata": {},
   "outputs": [],
   "source": [
    "# Index the data by the LAD code and the timestamp, then sort the data\n",
    "df_daily_cases = df_combined_LAD_county.set_index(['GSS_CD','date'])\n",
    "df_daily_cases = df_daily_cases.sort_index()"
   ]
  },
  {
   "cell_type": "code",
   "execution_count": null,
   "metadata": {},
   "outputs": [],
   "source": []
  },
  {
   "cell_type": "code",
   "execution_count": null,
   "metadata": {},
   "outputs": [],
   "source": []
  },
  {
   "cell_type": "code",
   "execution_count": 42,
   "metadata": {},
   "outputs": [
    {
     "data": {
      "text/html": [
       "<div>\n",
       "<style scoped>\n",
       "    .dataframe tbody tr th:only-of-type {\n",
       "        vertical-align: middle;\n",
       "    }\n",
       "\n",
       "    .dataframe tbody tr th {\n",
       "        vertical-align: top;\n",
       "    }\n",
       "\n",
       "    .dataframe thead th {\n",
       "        text-align: right;\n",
       "    }\n",
       "</style>\n",
       "<table border=\"1\" class=\"dataframe\">\n",
       "  <thead>\n",
       "    <tr style=\"text-align: right;\">\n",
       "      <th></th>\n",
       "      <th></th>\n",
       "      <th>GSS_NM</th>\n",
       "      <th>TotalCases</th>\n",
       "      <th>day</th>\n",
       "      <th>area_type</th>\n",
       "      <th>CTY19CD</th>\n",
       "      <th>CTY19NM</th>\n",
       "      <th>LAD19CD</th>\n",
       "      <th>LAD19NM</th>\n",
       "    </tr>\n",
       "    <tr>\n",
       "      <th>GSS_CD</th>\n",
       "      <th>date</th>\n",
       "      <th></th>\n",
       "      <th></th>\n",
       "      <th></th>\n",
       "      <th></th>\n",
       "      <th></th>\n",
       "      <th></th>\n",
       "      <th></th>\n",
       "      <th></th>\n",
       "    </tr>\n",
       "  </thead>\n",
       "  <tbody>\n",
       "    <tr>\n",
       "      <td rowspan=\"5\" valign=\"top\">E06000001</td>\n",
       "      <td>2020-03-18</td>\n",
       "      <td>Hartlepool</td>\n",
       "      <td>1</td>\n",
       "      <td>78</td>\n",
       "      <td>LAD</td>\n",
       "      <td>NaN</td>\n",
       "      <td>NaN</td>\n",
       "      <td>E06000001</td>\n",
       "      <td>Hartlepool</td>\n",
       "    </tr>\n",
       "    <tr>\n",
       "      <td>2020-03-19</td>\n",
       "      <td>Hartlepool</td>\n",
       "      <td>2</td>\n",
       "      <td>79</td>\n",
       "      <td>LAD</td>\n",
       "      <td>NaN</td>\n",
       "      <td>NaN</td>\n",
       "      <td>E06000001</td>\n",
       "      <td>Hartlepool</td>\n",
       "    </tr>\n",
       "    <tr>\n",
       "      <td>2020-03-20</td>\n",
       "      <td>Hartlepool</td>\n",
       "      <td>2</td>\n",
       "      <td>80</td>\n",
       "      <td>LAD</td>\n",
       "      <td>NaN</td>\n",
       "      <td>NaN</td>\n",
       "      <td>E06000001</td>\n",
       "      <td>Hartlepool</td>\n",
       "    </tr>\n",
       "    <tr>\n",
       "      <td>2020-03-21</td>\n",
       "      <td>Hartlepool</td>\n",
       "      <td>2</td>\n",
       "      <td>81</td>\n",
       "      <td>LAD</td>\n",
       "      <td>NaN</td>\n",
       "      <td>NaN</td>\n",
       "      <td>E06000001</td>\n",
       "      <td>Hartlepool</td>\n",
       "    </tr>\n",
       "    <tr>\n",
       "      <td>2020-03-22</td>\n",
       "      <td>Hartlepool</td>\n",
       "      <td>2</td>\n",
       "      <td>82</td>\n",
       "      <td>LAD</td>\n",
       "      <td>NaN</td>\n",
       "      <td>NaN</td>\n",
       "      <td>E06000001</td>\n",
       "      <td>Hartlepool</td>\n",
       "    </tr>\n",
       "  </tbody>\n",
       "</table>\n",
       "</div>"
      ],
      "text/plain": [
       "                          GSS_NM  TotalCases  day area_type CTY19CD CTY19NM  \\\n",
       "GSS_CD    date                                                                \n",
       "E06000001 2020-03-18  Hartlepool           1   78       LAD     NaN     NaN   \n",
       "          2020-03-19  Hartlepool           2   79       LAD     NaN     NaN   \n",
       "          2020-03-20  Hartlepool           2   80       LAD     NaN     NaN   \n",
       "          2020-03-21  Hartlepool           2   81       LAD     NaN     NaN   \n",
       "          2020-03-22  Hartlepool           2   82       LAD     NaN     NaN   \n",
       "\n",
       "                        LAD19CD     LAD19NM  \n",
       "GSS_CD    date                               \n",
       "E06000001 2020-03-18  E06000001  Hartlepool  \n",
       "          2020-03-19  E06000001  Hartlepool  \n",
       "          2020-03-20  E06000001  Hartlepool  \n",
       "          2020-03-21  E06000001  Hartlepool  \n",
       "          2020-03-22  E06000001  Hartlepool  "
      ]
     },
     "execution_count": 42,
     "metadata": {},
     "output_type": "execute_result"
    }
   ],
   "source": [
    "df_daily_cases.head()"
   ]
  },
  {
   "cell_type": "code",
   "execution_count": null,
   "metadata": {},
   "outputs": [],
   "source": []
  },
  {
   "cell_type": "code",
   "execution_count": null,
   "metadata": {},
   "outputs": [],
   "source": []
  },
  {
   "cell_type": "markdown",
   "metadata": {},
   "source": [
    "***\n",
    "# Calculate the change in TotalCases (velocity) and change in velocity (acceleration)"
   ]
  },
  {
   "cell_type": "code",
   "execution_count": 43,
   "metadata": {
    "scrolled": true
   },
   "outputs": [
    {
     "data": {
      "text/html": [
       "<div>\n",
       "<style scoped>\n",
       "    .dataframe tbody tr th:only-of-type {\n",
       "        vertical-align: middle;\n",
       "    }\n",
       "\n",
       "    .dataframe tbody tr th {\n",
       "        vertical-align: top;\n",
       "    }\n",
       "\n",
       "    .dataframe thead th {\n",
       "        text-align: right;\n",
       "    }\n",
       "</style>\n",
       "<table border=\"1\" class=\"dataframe\">\n",
       "  <thead>\n",
       "    <tr style=\"text-align: right;\">\n",
       "      <th></th>\n",
       "      <th></th>\n",
       "      <th>GSS_NM</th>\n",
       "      <th>TotalCases</th>\n",
       "      <th>day</th>\n",
       "      <th>area_type</th>\n",
       "      <th>CTY19CD</th>\n",
       "      <th>CTY19NM</th>\n",
       "      <th>LAD19CD</th>\n",
       "      <th>LAD19NM</th>\n",
       "      <th>velocity</th>\n",
       "      <th>acceleration</th>\n",
       "    </tr>\n",
       "    <tr>\n",
       "      <th>GSS_CD</th>\n",
       "      <th>date</th>\n",
       "      <th></th>\n",
       "      <th></th>\n",
       "      <th></th>\n",
       "      <th></th>\n",
       "      <th></th>\n",
       "      <th></th>\n",
       "      <th></th>\n",
       "      <th></th>\n",
       "      <th></th>\n",
       "      <th></th>\n",
       "    </tr>\n",
       "  </thead>\n",
       "  <tbody>\n",
       "    <tr>\n",
       "      <td rowspan=\"5\" valign=\"top\">E06000001</td>\n",
       "      <td>2020-03-18</td>\n",
       "      <td>Hartlepool</td>\n",
       "      <td>1</td>\n",
       "      <td>78</td>\n",
       "      <td>LAD</td>\n",
       "      <td>NaN</td>\n",
       "      <td>NaN</td>\n",
       "      <td>E06000001</td>\n",
       "      <td>Hartlepool</td>\n",
       "      <td>NaN</td>\n",
       "      <td>NaN</td>\n",
       "    </tr>\n",
       "    <tr>\n",
       "      <td>2020-03-19</td>\n",
       "      <td>Hartlepool</td>\n",
       "      <td>2</td>\n",
       "      <td>79</td>\n",
       "      <td>LAD</td>\n",
       "      <td>NaN</td>\n",
       "      <td>NaN</td>\n",
       "      <td>E06000001</td>\n",
       "      <td>Hartlepool</td>\n",
       "      <td>1.0</td>\n",
       "      <td>NaN</td>\n",
       "    </tr>\n",
       "    <tr>\n",
       "      <td>2020-03-20</td>\n",
       "      <td>Hartlepool</td>\n",
       "      <td>2</td>\n",
       "      <td>80</td>\n",
       "      <td>LAD</td>\n",
       "      <td>NaN</td>\n",
       "      <td>NaN</td>\n",
       "      <td>E06000001</td>\n",
       "      <td>Hartlepool</td>\n",
       "      <td>0.0</td>\n",
       "      <td>-1.0</td>\n",
       "    </tr>\n",
       "    <tr>\n",
       "      <td>2020-03-21</td>\n",
       "      <td>Hartlepool</td>\n",
       "      <td>2</td>\n",
       "      <td>81</td>\n",
       "      <td>LAD</td>\n",
       "      <td>NaN</td>\n",
       "      <td>NaN</td>\n",
       "      <td>E06000001</td>\n",
       "      <td>Hartlepool</td>\n",
       "      <td>0.0</td>\n",
       "      <td>0.0</td>\n",
       "    </tr>\n",
       "    <tr>\n",
       "      <td>2020-03-22</td>\n",
       "      <td>Hartlepool</td>\n",
       "      <td>2</td>\n",
       "      <td>82</td>\n",
       "      <td>LAD</td>\n",
       "      <td>NaN</td>\n",
       "      <td>NaN</td>\n",
       "      <td>E06000001</td>\n",
       "      <td>Hartlepool</td>\n",
       "      <td>0.0</td>\n",
       "      <td>0.0</td>\n",
       "    </tr>\n",
       "  </tbody>\n",
       "</table>\n",
       "</div>"
      ],
      "text/plain": [
       "                          GSS_NM  TotalCases  day area_type CTY19CD CTY19NM  \\\n",
       "GSS_CD    date                                                                \n",
       "E06000001 2020-03-18  Hartlepool           1   78       LAD     NaN     NaN   \n",
       "          2020-03-19  Hartlepool           2   79       LAD     NaN     NaN   \n",
       "          2020-03-20  Hartlepool           2   80       LAD     NaN     NaN   \n",
       "          2020-03-21  Hartlepool           2   81       LAD     NaN     NaN   \n",
       "          2020-03-22  Hartlepool           2   82       LAD     NaN     NaN   \n",
       "\n",
       "                        LAD19CD     LAD19NM  velocity  acceleration  \n",
       "GSS_CD    date                                                       \n",
       "E06000001 2020-03-18  E06000001  Hartlepool       NaN           NaN  \n",
       "          2020-03-19  E06000001  Hartlepool       1.0           NaN  \n",
       "          2020-03-20  E06000001  Hartlepool       0.0          -1.0  \n",
       "          2020-03-21  E06000001  Hartlepool       0.0           0.0  \n",
       "          2020-03-22  E06000001  Hartlepool       0.0           0.0  "
      ]
     },
     "execution_count": 43,
     "metadata": {},
     "output_type": "execute_result"
    }
   ],
   "source": [
    "# Calculate the velocity of the change in the number of cases from the previous time\n",
    "\n",
    "df_daily_cases['velocity'] = df_daily_cases['TotalCases'].groupby(level=0).diff()\n",
    "df_daily_cases['acceleration'] = df_daily_cases['velocity'].groupby(level=0).diff()\n",
    "df_daily_cases.head()"
   ]
  },
  {
   "cell_type": "code",
   "execution_count": null,
   "metadata": {},
   "outputs": [],
   "source": []
  },
  {
   "cell_type": "markdown",
   "metadata": {},
   "source": [
    "## Save the data to csv"
   ]
  },
  {
   "cell_type": "code",
   "execution_count": 44,
   "metadata": {},
   "outputs": [],
   "source": [
    "df_daily_cases.to_csv(daily_cases_file_name)"
   ]
  },
  {
   "cell_type": "code",
   "execution_count": null,
   "metadata": {},
   "outputs": [],
   "source": []
  },
  {
   "cell_type": "markdown",
   "metadata": {},
   "source": [
    "***\n",
    "# Aggregate daily data into weekly"
   ]
  },
  {
   "cell_type": "markdown",
   "metadata": {},
   "source": [
    "## Agregate the data"
   ]
  },
  {
   "cell_type": "code",
   "execution_count": 45,
   "metadata": {
    "scrolled": true
   },
   "outputs": [
    {
     "data": {
      "text/html": [
       "<div>\n",
       "<style scoped>\n",
       "    .dataframe tbody tr th:only-of-type {\n",
       "        vertical-align: middle;\n",
       "    }\n",
       "\n",
       "    .dataframe tbody tr th {\n",
       "        vertical-align: top;\n",
       "    }\n",
       "\n",
       "    .dataframe thead th {\n",
       "        text-align: right;\n",
       "    }\n",
       "</style>\n",
       "<table border=\"1\" class=\"dataframe\">\n",
       "  <thead>\n",
       "    <tr style=\"text-align: right;\">\n",
       "      <th></th>\n",
       "      <th></th>\n",
       "      <th>GSS_NM</th>\n",
       "      <th>TotalCases</th>\n",
       "      <th>day</th>\n",
       "      <th>area_type</th>\n",
       "      <th>CTY19CD</th>\n",
       "      <th>CTY19NM</th>\n",
       "      <th>LAD19CD</th>\n",
       "      <th>LAD19NM</th>\n",
       "      <th>velocity</th>\n",
       "      <th>acceleration</th>\n",
       "    </tr>\n",
       "    <tr>\n",
       "      <th>GSS_CD</th>\n",
       "      <th>date</th>\n",
       "      <th></th>\n",
       "      <th></th>\n",
       "      <th></th>\n",
       "      <th></th>\n",
       "      <th></th>\n",
       "      <th></th>\n",
       "      <th></th>\n",
       "      <th></th>\n",
       "      <th></th>\n",
       "      <th></th>\n",
       "    </tr>\n",
       "  </thead>\n",
       "  <tbody>\n",
       "    <tr>\n",
       "      <td rowspan=\"5\" valign=\"top\">E06000001</td>\n",
       "      <td>2020-03-18</td>\n",
       "      <td>Hartlepool</td>\n",
       "      <td>1</td>\n",
       "      <td>78</td>\n",
       "      <td>LAD</td>\n",
       "      <td>NaN</td>\n",
       "      <td>NaN</td>\n",
       "      <td>E06000001</td>\n",
       "      <td>Hartlepool</td>\n",
       "      <td>NaN</td>\n",
       "      <td>NaN</td>\n",
       "    </tr>\n",
       "    <tr>\n",
       "      <td>2020-03-19</td>\n",
       "      <td>Hartlepool</td>\n",
       "      <td>2</td>\n",
       "      <td>79</td>\n",
       "      <td>LAD</td>\n",
       "      <td>NaN</td>\n",
       "      <td>NaN</td>\n",
       "      <td>E06000001</td>\n",
       "      <td>Hartlepool</td>\n",
       "      <td>1.0</td>\n",
       "      <td>NaN</td>\n",
       "    </tr>\n",
       "    <tr>\n",
       "      <td>2020-03-20</td>\n",
       "      <td>Hartlepool</td>\n",
       "      <td>2</td>\n",
       "      <td>80</td>\n",
       "      <td>LAD</td>\n",
       "      <td>NaN</td>\n",
       "      <td>NaN</td>\n",
       "      <td>E06000001</td>\n",
       "      <td>Hartlepool</td>\n",
       "      <td>0.0</td>\n",
       "      <td>-1.0</td>\n",
       "    </tr>\n",
       "    <tr>\n",
       "      <td>2020-03-21</td>\n",
       "      <td>Hartlepool</td>\n",
       "      <td>2</td>\n",
       "      <td>81</td>\n",
       "      <td>LAD</td>\n",
       "      <td>NaN</td>\n",
       "      <td>NaN</td>\n",
       "      <td>E06000001</td>\n",
       "      <td>Hartlepool</td>\n",
       "      <td>0.0</td>\n",
       "      <td>0.0</td>\n",
       "    </tr>\n",
       "    <tr>\n",
       "      <td>2020-03-22</td>\n",
       "      <td>Hartlepool</td>\n",
       "      <td>2</td>\n",
       "      <td>82</td>\n",
       "      <td>LAD</td>\n",
       "      <td>NaN</td>\n",
       "      <td>NaN</td>\n",
       "      <td>E06000001</td>\n",
       "      <td>Hartlepool</td>\n",
       "      <td>0.0</td>\n",
       "      <td>0.0</td>\n",
       "    </tr>\n",
       "  </tbody>\n",
       "</table>\n",
       "</div>"
      ],
      "text/plain": [
       "                          GSS_NM  TotalCases  day area_type CTY19CD CTY19NM  \\\n",
       "GSS_CD    date                                                                \n",
       "E06000001 2020-03-18  Hartlepool           1   78       LAD     NaN     NaN   \n",
       "          2020-03-19  Hartlepool           2   79       LAD     NaN     NaN   \n",
       "          2020-03-20  Hartlepool           2   80       LAD     NaN     NaN   \n",
       "          2020-03-21  Hartlepool           2   81       LAD     NaN     NaN   \n",
       "          2020-03-22  Hartlepool           2   82       LAD     NaN     NaN   \n",
       "\n",
       "                        LAD19CD     LAD19NM  velocity  acceleration  \n",
       "GSS_CD    date                                                       \n",
       "E06000001 2020-03-18  E06000001  Hartlepool       NaN           NaN  \n",
       "          2020-03-19  E06000001  Hartlepool       1.0           NaN  \n",
       "          2020-03-20  E06000001  Hartlepool       0.0          -1.0  \n",
       "          2020-03-21  E06000001  Hartlepool       0.0           0.0  \n",
       "          2020-03-22  E06000001  Hartlepool       0.0           0.0  "
      ]
     },
     "execution_count": 45,
     "metadata": {},
     "output_type": "execute_result"
    }
   ],
   "source": [
    "df_daily_cases.head()"
   ]
  },
  {
   "cell_type": "code",
   "execution_count": 46,
   "metadata": {},
   "outputs": [],
   "source": [
    "# Aggregate the daily TotalCases to get the weekly (Monday) maximum\n",
    "df_GSS_max_weekly_cases = df_daily_cases.reset_index().groupby(['GSS_CD', pd.Grouper(key='date', freq='W-MON')])['TotalCases'].max()\n",
    "\n",
    "# Aggregate the daily velocity & acceleration to get weekly (Monday) average\n",
    "df_GSS_mean_weekly_rates = df_daily_cases.reset_index().groupby(['GSS_CD', pd.Grouper(key='date', freq='W-MON')])[['velocity','acceleration']].mean()"
   ]
  },
  {
   "cell_type": "code",
   "execution_count": 47,
   "metadata": {},
   "outputs": [],
   "source": [
    "# Join the max cases and mean rates back together\n",
    "df_GSS_CD_weekly_cases = df_GSS_max_weekly_cases.to_frame().join(df_GSS_mean_weekly_rates)"
   ]
  },
  {
   "cell_type": "code",
   "execution_count": 48,
   "metadata": {},
   "outputs": [],
   "source": [
    "df_GSS_to_LAD_CTY = df_daily_cases.reset_index().set_index('GSS_CD')[['area_type','GSS_NM','CTY19CD','CTY19NM','LAD19CD','LAD19NM']]"
   ]
  },
  {
   "cell_type": "code",
   "execution_count": 49,
   "metadata": {},
   "outputs": [],
   "source": [
    "# Add the LAD / CTY codes & names back in\n",
    "df_GSS_weekly_cases = df_GSS_CD_weekly_cases.reset_index().set_index('GSS_CD').join(df_GSS_to_LAD_CTY)"
   ]
  },
  {
   "cell_type": "code",
   "execution_count": 50,
   "metadata": {},
   "outputs": [],
   "source": [
    "# Rename the columns\n",
    "columns={'date':'week_starting','TotalCases':'max_cases','velocity':'mean_velocity','acceleration':'mean_acceleration'}\n",
    "df_GSS_weekly_cases.rename(columns=columns, inplace=True)"
   ]
  },
  {
   "cell_type": "code",
   "execution_count": 51,
   "metadata": {},
   "outputs": [],
   "source": [
    "# Index the data by the LAD code and the timestamp, then sort the data\n",
    "df_GSS_weekly_cases = df_GSS_weekly_cases.reset_index().set_index(['GSS_CD','week_starting'])\n",
    "df_GSS_weekly_cases = df_GSS_weekly_cases.sort_index()"
   ]
  },
  {
   "cell_type": "code",
   "execution_count": 52,
   "metadata": {},
   "outputs": [
    {
     "data": {
      "text/html": [
       "<div>\n",
       "<style scoped>\n",
       "    .dataframe tbody tr th:only-of-type {\n",
       "        vertical-align: middle;\n",
       "    }\n",
       "\n",
       "    .dataframe tbody tr th {\n",
       "        vertical-align: top;\n",
       "    }\n",
       "\n",
       "    .dataframe thead th {\n",
       "        text-align: right;\n",
       "    }\n",
       "</style>\n",
       "<table border=\"1\" class=\"dataframe\">\n",
       "  <thead>\n",
       "    <tr style=\"text-align: right;\">\n",
       "      <th></th>\n",
       "      <th></th>\n",
       "      <th>max_cases</th>\n",
       "      <th>mean_velocity</th>\n",
       "      <th>mean_acceleration</th>\n",
       "      <th>area_type</th>\n",
       "      <th>GSS_NM</th>\n",
       "      <th>CTY19CD</th>\n",
       "      <th>CTY19NM</th>\n",
       "      <th>LAD19CD</th>\n",
       "      <th>LAD19NM</th>\n",
       "    </tr>\n",
       "    <tr>\n",
       "      <th>GSS_CD</th>\n",
       "      <th>week_starting</th>\n",
       "      <th></th>\n",
       "      <th></th>\n",
       "      <th></th>\n",
       "      <th></th>\n",
       "      <th></th>\n",
       "      <th></th>\n",
       "      <th></th>\n",
       "      <th></th>\n",
       "      <th></th>\n",
       "    </tr>\n",
       "  </thead>\n",
       "  <tbody>\n",
       "    <tr>\n",
       "      <td rowspan=\"5\" valign=\"top\">E06000001</td>\n",
       "      <td>2020-03-23</td>\n",
       "      <td>3</td>\n",
       "      <td>0.4</td>\n",
       "      <td>0.0</td>\n",
       "      <td>LAD</td>\n",
       "      <td>Hartlepool</td>\n",
       "      <td>NaN</td>\n",
       "      <td>NaN</td>\n",
       "      <td>E06000001</td>\n",
       "      <td>Hartlepool</td>\n",
       "    </tr>\n",
       "    <tr>\n",
       "      <td>2020-03-23</td>\n",
       "      <td>3</td>\n",
       "      <td>0.4</td>\n",
       "      <td>0.0</td>\n",
       "      <td>LAD</td>\n",
       "      <td>Hartlepool</td>\n",
       "      <td>NaN</td>\n",
       "      <td>NaN</td>\n",
       "      <td>E06000001</td>\n",
       "      <td>Hartlepool</td>\n",
       "    </tr>\n",
       "    <tr>\n",
       "      <td>2020-03-23</td>\n",
       "      <td>3</td>\n",
       "      <td>0.4</td>\n",
       "      <td>0.0</td>\n",
       "      <td>LAD</td>\n",
       "      <td>Hartlepool</td>\n",
       "      <td>NaN</td>\n",
       "      <td>NaN</td>\n",
       "      <td>E06000001</td>\n",
       "      <td>Hartlepool</td>\n",
       "    </tr>\n",
       "    <tr>\n",
       "      <td>2020-03-23</td>\n",
       "      <td>3</td>\n",
       "      <td>0.4</td>\n",
       "      <td>0.0</td>\n",
       "      <td>LAD</td>\n",
       "      <td>Hartlepool</td>\n",
       "      <td>NaN</td>\n",
       "      <td>NaN</td>\n",
       "      <td>E06000001</td>\n",
       "      <td>Hartlepool</td>\n",
       "    </tr>\n",
       "    <tr>\n",
       "      <td>2020-03-23</td>\n",
       "      <td>3</td>\n",
       "      <td>0.4</td>\n",
       "      <td>0.0</td>\n",
       "      <td>LAD</td>\n",
       "      <td>Hartlepool</td>\n",
       "      <td>NaN</td>\n",
       "      <td>NaN</td>\n",
       "      <td>E06000001</td>\n",
       "      <td>Hartlepool</td>\n",
       "    </tr>\n",
       "  </tbody>\n",
       "</table>\n",
       "</div>"
      ],
      "text/plain": [
       "                         max_cases  mean_velocity  mean_acceleration  \\\n",
       "GSS_CD    week_starting                                                \n",
       "E06000001 2020-03-23             3            0.4                0.0   \n",
       "          2020-03-23             3            0.4                0.0   \n",
       "          2020-03-23             3            0.4                0.0   \n",
       "          2020-03-23             3            0.4                0.0   \n",
       "          2020-03-23             3            0.4                0.0   \n",
       "\n",
       "                        area_type      GSS_NM CTY19CD CTY19NM    LAD19CD  \\\n",
       "GSS_CD    week_starting                                                    \n",
       "E06000001 2020-03-23          LAD  Hartlepool     NaN     NaN  E06000001   \n",
       "          2020-03-23          LAD  Hartlepool     NaN     NaN  E06000001   \n",
       "          2020-03-23          LAD  Hartlepool     NaN     NaN  E06000001   \n",
       "          2020-03-23          LAD  Hartlepool     NaN     NaN  E06000001   \n",
       "          2020-03-23          LAD  Hartlepool     NaN     NaN  E06000001   \n",
       "\n",
       "                            LAD19NM  \n",
       "GSS_CD    week_starting              \n",
       "E06000001 2020-03-23     Hartlepool  \n",
       "          2020-03-23     Hartlepool  \n",
       "          2020-03-23     Hartlepool  \n",
       "          2020-03-23     Hartlepool  \n",
       "          2020-03-23     Hartlepool  "
      ]
     },
     "execution_count": 52,
     "metadata": {},
     "output_type": "execute_result"
    }
   ],
   "source": [
    "df_GSS_weekly_cases.head()"
   ]
  },
  {
   "cell_type": "code",
   "execution_count": 53,
   "metadata": {},
   "outputs": [],
   "source": [
    "# Write the data to a csv\n",
    "df_GSS_weekly_cases.to_csv(weekly_cases_file_name)"
   ]
  }
 ],
 "metadata": {
  "kernelspec": {
   "display_name": "Python 3",
   "language": "python",
   "name": "python3"
  },
  "language_info": {
   "codemirror_mode": {
    "name": "ipython",
    "version": 3
   },
   "file_extension": ".py",
   "mimetype": "text/x-python",
   "name": "python",
   "nbconvert_exporter": "python",
   "pygments_lexer": "ipython3",
   "version": "3.6.9"
  }
 },
 "nbformat": 4,
 "nbformat_minor": 2
}
